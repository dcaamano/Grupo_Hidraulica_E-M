{
  "nbformat": 4,
  "nbformat_minor": 0,
  "metadata": {
    "kernelspec": {
      "display_name": "Python 3",
      "language": "python",
      "name": "python3"
    },
    "language_info": {
      "codemirror_mode": {
        "name": "ipython",
        "version": 3
      },
      "file_extension": ".py",
      "mimetype": "text/x-python",
      "name": "python",
      "nbconvert_exporter": "python",
      "pygments_lexer": "ipython3",
      "version": "3.8.3"
    },
    "colab": {
      "name": "Taller 5_Energía y Fuerza Específica.ipynb",
      "provenance": [],
      "collapsed_sections": [],
      "include_colab_link": true
    },
    "widgets": {
      "application/vnd.jupyter.widget-state+json": {
        "bee94b7aae7b4ea1a61c590125a7ef92": {
          "model_module": "@jupyter-widgets/controls",
          "model_name": "VBoxModel",
          "model_module_version": "1.5.0",
          "state": {
            "_view_name": "VBoxView",
            "_dom_classes": [
              "widget-interact"
            ],
            "_model_name": "VBoxModel",
            "_view_module": "@jupyter-widgets/controls",
            "_model_module_version": "1.5.0",
            "_view_count": null,
            "_view_module_version": "1.5.0",
            "box_style": "",
            "layout": "IPY_MODEL_24f6600555b54dceaa05d59d6195fe07",
            "_model_module": "@jupyter-widgets/controls",
            "children": [
              "IPY_MODEL_438f83b12e1f45b7bb0d419edba5aac6",
              "IPY_MODEL_669a826db8cb41cb9062dfa2501a366d",
              "IPY_MODEL_6b9350552d434232a7be36be9a3ce6be"
            ]
          }
        },
        "24f6600555b54dceaa05d59d6195fe07": {
          "model_module": "@jupyter-widgets/base",
          "model_name": "LayoutModel",
          "model_module_version": "1.2.0",
          "state": {
            "_view_name": "LayoutView",
            "grid_template_rows": null,
            "right": null,
            "justify_content": null,
            "_view_module": "@jupyter-widgets/base",
            "overflow": null,
            "_model_module_version": "1.2.0",
            "_view_count": null,
            "flex_flow": null,
            "width": null,
            "min_width": null,
            "border": null,
            "align_items": null,
            "bottom": null,
            "_model_module": "@jupyter-widgets/base",
            "top": null,
            "grid_column": null,
            "overflow_y": null,
            "overflow_x": null,
            "grid_auto_flow": null,
            "grid_area": null,
            "grid_template_columns": null,
            "flex": null,
            "_model_name": "LayoutModel",
            "justify_items": null,
            "grid_row": null,
            "max_height": null,
            "align_content": null,
            "visibility": null,
            "align_self": null,
            "height": null,
            "min_height": null,
            "padding": null,
            "grid_auto_rows": null,
            "grid_gap": null,
            "max_width": null,
            "order": null,
            "_view_module_version": "1.2.0",
            "grid_template_areas": null,
            "object_position": null,
            "object_fit": null,
            "grid_auto_columns": null,
            "margin": null,
            "display": null,
            "left": null
          }
        },
        "438f83b12e1f45b7bb0d419edba5aac6": {
          "model_module": "@jupyter-widgets/controls",
          "model_name": "FloatSliderModel",
          "model_module_version": "1.5.0",
          "state": {
            "_view_name": "FloatSliderView",
            "style": "IPY_MODEL_dc85bc4a00854599ac27cfeb8b5850b8",
            "_dom_classes": [],
            "description": "y1",
            "step": 0.2,
            "_model_name": "FloatSliderModel",
            "orientation": "horizontal",
            "max": 5,
            "_view_module": "@jupyter-widgets/controls",
            "_model_module_version": "1.5.0",
            "value": 3.6,
            "_view_count": null,
            "disabled": false,
            "_view_module_version": "1.5.0",
            "min": 2,
            "continuous_update": true,
            "readout_format": ".2f",
            "description_tooltip": null,
            "readout": true,
            "_model_module": "@jupyter-widgets/controls",
            "layout": "IPY_MODEL_56519758d71641cb98007d03d47f57b9"
          }
        },
        "669a826db8cb41cb9062dfa2501a366d": {
          "model_module": "@jupyter-widgets/controls",
          "model_name": "FloatSliderModel",
          "model_module_version": "1.5.0",
          "state": {
            "_view_name": "FloatSliderView",
            "style": "IPY_MODEL_db2fb771da474b49aec38f986f7558c2",
            "_dom_classes": [],
            "description": "ya",
            "step": 0.1,
            "_model_name": "FloatSliderModel",
            "orientation": "horizontal",
            "max": 1.5,
            "_view_module": "@jupyter-widgets/controls",
            "_model_module_version": "1.5.0",
            "value": 0.7,
            "_view_count": null,
            "disabled": false,
            "_view_module_version": "1.5.0",
            "min": 0.1,
            "continuous_update": true,
            "readout_format": ".2f",
            "description_tooltip": null,
            "readout": true,
            "_model_module": "@jupyter-widgets/controls",
            "layout": "IPY_MODEL_c4b8fb9f25cf468d8123d5b3407dbfc1"
          }
        },
        "6b9350552d434232a7be36be9a3ce6be": {
          "model_module": "@jupyter-widgets/output",
          "model_name": "OutputModel",
          "model_module_version": "1.0.0",
          "state": {
            "_view_name": "OutputView",
            "msg_id": "",
            "_dom_classes": [],
            "_model_name": "OutputModel",
            "outputs": [
              {
                "output_type": "display_data",
                "data": {
                  "image/png": "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\n",
                  "text/plain": "<Figure size 1080x432 with 3 Axes>"
                },
                "metadata": {
                  "needs_background": "light"
                }
              }
            ],
            "_view_module": "@jupyter-widgets/output",
            "_model_module_version": "1.0.0",
            "_view_count": null,
            "_view_module_version": "1.0.0",
            "layout": "IPY_MODEL_0dadfb4cc46d4bafaf1569da9337c3f7",
            "_model_module": "@jupyter-widgets/output"
          }
        },
        "dc85bc4a00854599ac27cfeb8b5850b8": {
          "model_module": "@jupyter-widgets/controls",
          "model_name": "SliderStyleModel",
          "model_module_version": "1.5.0",
          "state": {
            "_view_name": "StyleView",
            "handle_color": null,
            "_model_name": "SliderStyleModel",
            "description_width": "",
            "_view_module": "@jupyter-widgets/base",
            "_model_module_version": "1.5.0",
            "_view_count": null,
            "_view_module_version": "1.2.0",
            "_model_module": "@jupyter-widgets/controls"
          }
        },
        "56519758d71641cb98007d03d47f57b9": {
          "model_module": "@jupyter-widgets/base",
          "model_name": "LayoutModel",
          "model_module_version": "1.2.0",
          "state": {
            "_view_name": "LayoutView",
            "grid_template_rows": null,
            "right": null,
            "justify_content": null,
            "_view_module": "@jupyter-widgets/base",
            "overflow": null,
            "_model_module_version": "1.2.0",
            "_view_count": null,
            "flex_flow": null,
            "width": null,
            "min_width": null,
            "border": null,
            "align_items": null,
            "bottom": null,
            "_model_module": "@jupyter-widgets/base",
            "top": null,
            "grid_column": null,
            "overflow_y": null,
            "overflow_x": null,
            "grid_auto_flow": null,
            "grid_area": null,
            "grid_template_columns": null,
            "flex": null,
            "_model_name": "LayoutModel",
            "justify_items": null,
            "grid_row": null,
            "max_height": null,
            "align_content": null,
            "visibility": null,
            "align_self": null,
            "height": null,
            "min_height": null,
            "padding": null,
            "grid_auto_rows": null,
            "grid_gap": null,
            "max_width": null,
            "order": null,
            "_view_module_version": "1.2.0",
            "grid_template_areas": null,
            "object_position": null,
            "object_fit": null,
            "grid_auto_columns": null,
            "margin": null,
            "display": null,
            "left": null
          }
        },
        "db2fb771da474b49aec38f986f7558c2": {
          "model_module": "@jupyter-widgets/controls",
          "model_name": "SliderStyleModel",
          "model_module_version": "1.5.0",
          "state": {
            "_view_name": "StyleView",
            "handle_color": null,
            "_model_name": "SliderStyleModel",
            "description_width": "",
            "_view_module": "@jupyter-widgets/base",
            "_model_module_version": "1.5.0",
            "_view_count": null,
            "_view_module_version": "1.2.0",
            "_model_module": "@jupyter-widgets/controls"
          }
        },
        "c4b8fb9f25cf468d8123d5b3407dbfc1": {
          "model_module": "@jupyter-widgets/base",
          "model_name": "LayoutModel",
          "model_module_version": "1.2.0",
          "state": {
            "_view_name": "LayoutView",
            "grid_template_rows": null,
            "right": null,
            "justify_content": null,
            "_view_module": "@jupyter-widgets/base",
            "overflow": null,
            "_model_module_version": "1.2.0",
            "_view_count": null,
            "flex_flow": null,
            "width": null,
            "min_width": null,
            "border": null,
            "align_items": null,
            "bottom": null,
            "_model_module": "@jupyter-widgets/base",
            "top": null,
            "grid_column": null,
            "overflow_y": null,
            "overflow_x": null,
            "grid_auto_flow": null,
            "grid_area": null,
            "grid_template_columns": null,
            "flex": null,
            "_model_name": "LayoutModel",
            "justify_items": null,
            "grid_row": null,
            "max_height": null,
            "align_content": null,
            "visibility": null,
            "align_self": null,
            "height": null,
            "min_height": null,
            "padding": null,
            "grid_auto_rows": null,
            "grid_gap": null,
            "max_width": null,
            "order": null,
            "_view_module_version": "1.2.0",
            "grid_template_areas": null,
            "object_position": null,
            "object_fit": null,
            "grid_auto_columns": null,
            "margin": null,
            "display": null,
            "left": null
          }
        },
        "0dadfb4cc46d4bafaf1569da9337c3f7": {
          "model_module": "@jupyter-widgets/base",
          "model_name": "LayoutModel",
          "model_module_version": "1.2.0",
          "state": {
            "_view_name": "LayoutView",
            "grid_template_rows": null,
            "right": null,
            "justify_content": null,
            "_view_module": "@jupyter-widgets/base",
            "overflow": null,
            "_model_module_version": "1.2.0",
            "_view_count": null,
            "flex_flow": null,
            "width": null,
            "min_width": null,
            "border": null,
            "align_items": null,
            "bottom": null,
            "_model_module": "@jupyter-widgets/base",
            "top": null,
            "grid_column": null,
            "overflow_y": null,
            "overflow_x": null,
            "grid_auto_flow": null,
            "grid_area": null,
            "grid_template_columns": null,
            "flex": null,
            "_model_name": "LayoutModel",
            "justify_items": null,
            "grid_row": null,
            "max_height": null,
            "align_content": null,
            "visibility": null,
            "align_self": null,
            "height": null,
            "min_height": null,
            "padding": null,
            "grid_auto_rows": null,
            "grid_gap": null,
            "max_width": null,
            "order": null,
            "_view_module_version": "1.2.0",
            "grid_template_areas": null,
            "object_position": null,
            "object_fit": null,
            "grid_auto_columns": null,
            "margin": null,
            "display": null,
            "left": null
          }
        }
      }
    }
  },
  "cells": [
    {
      "cell_type": "markdown",
      "metadata": {
        "id": "view-in-github",
        "colab_type": "text"
      },
      "source": [
        "<a href=\"https://colab.research.google.com/github/dcaamano/Grupo_Hidraulica_E-M/blob/main/Taller_5_Energ%C3%ADa_y_Fuerza_Espec%C3%ADfica.ipynb\" target=\"_parent\"><img src=\"https://colab.research.google.com/assets/colab-badge.svg\" alt=\"Open In Colab\"/></a>"
      ]
    },
    {
      "cell_type": "markdown",
      "metadata": {
        "id": "RuzjgOD3V9sw"
      },
      "source": [
        "# Taller Energía y Fuerza Específica. \n",
        "\n",
        "Recordemos la relación existente entre la energía y la fuerza específica. \n",
        "\n",
        "1) En el caso que se conozca la pérdida de energía, conviene aplicar la conservación de energía (energía específica, E)\n",
        "\n",
        "2) En el caso que se conozcan la o las fuerzas involucradas, conviene aplicar la conservación de la cantidad de movimiento (Fuerza específica, M)\n",
        "\n",
        "Para el caso unidimensional estacionario, cada principio de conservación entregará una ecuación. Por lo tanto, en aquellos casos con mas de una variable desconocida deberemos combinar su uso (i.e. continuidad de masa, energía y cantidad de movimiento)."
      ]
    },
    {
      "cell_type": "markdown",
      "metadata": {
        "id": "iZO--Xg4V9s1"
      },
      "source": [
        "<center><img src=\"https://raw.githubusercontent.com/dcaamano/Grupo_Hidraulica_E-M/main/Taller5_Fig1.png\" alt=\"Compresión confinada\" width=\"800\"></center>\n"
      ]
    },
    {
      "cell_type": "markdown",
      "metadata": {
        "id": "F7iP2QF3V9s2"
      },
      "source": [
        "**Figura 1** Indica las gráficas conjuntas de la fuerza específica y la energía específica. Cuando el flujo se somete al control de una compuerta y de un regimen subcrítico desde aguas abajo de la sección 3. $\\Delta M$ representa la fuerza de la compuerta y $\\Delta E$ la pérdida de energía en el resalto hidráulico. Recordar que $y_1$ e $y_2$ se denominan alturas alternas y $y_2$ e $y_3$ alturas conjugadas."
      ]
    },
    {
      "cell_type": "code",
      "metadata": {
        "cellView": "form",
        "id": "uSERtPD-V9s2"
      },
      "source": [
        "#@title Definición de librerías\n",
        "import numpy as np\n",
        "import matplotlib.pyplot as plt\n",
        "from scipy.optimize import fsolve\n",
        "%matplotlib inline\n",
        "import warnings\n",
        "warnings.filterwarnings('ignore')\n",
        "import ipywidgets as wg"
      ],
      "execution_count": 1,
      "outputs": []
    },
    {
      "cell_type": "markdown",
      "metadata": {
        "id": "inA4PwnEV9s4"
      },
      "source": [
        "**Ejemplo**\n",
        "Un canal rectangular de ancho de $3m$ posee una compuerta que controla las alturas de agua tal cual se representa en la Figura 1. La altura del flujo aguas arriba de la compuerta es $3m$ y la compuerta presenta una apertura de $0.92m$ con un coeficiente de contracción $C_c = 0.61$. Entonces, calcule la fuerza aplicada sobre la compuerta asumiendo pérdidas de energía despreciables."
      ]
    },
    {
      "cell_type": "markdown",
      "metadata": {
        "id": "oGfVzo6VV9s4"
      },
      "source": [
        "Respuesta: La fuerza no se puede estimar directamente con la ecuación de energía. Sin embargo, el uso combinado de las conservaciones de masa (i.e. continuidad), energía (i.e. energia específica), y cantidad de movimiento (i.e. fuerza específica) es de gran utilidad práctica. En este caso es necesario utilizar los 3 principios de conservación."
      ]
    },
    {
      "cell_type": "code",
      "metadata": {
        "cellView": "form",
        "id": "M4KStv95V9s5"
      },
      "source": [
        "#@title Constantes y variables conocidas\n",
        "#Definición de constantes y variables conocidas para el desarollo del ejercicio\n",
        "g = 9.81 #m/s2\n",
        "ro = 1000 #kg/m3\n",
        "\n",
        "b = 3 #m\n",
        "y1 = 3 #m\n",
        "\n",
        "y_apertura = 0.92 #m\n",
        "C_contraccion = 0.61\n",
        "\n",
        "y2 = y_apertura*C_contraccion"
      ],
      "execution_count": 2,
      "outputs": []
    },
    {
      "cell_type": "markdown",
      "metadata": {
        "id": "RHBH7_KwV9s5"
      },
      "source": [
        "Conservación de la energía en términos de la energía específica\n",
        "\n",
        "$$E_{1}=E_{2}$$\n",
        "\n",
        "$$y_{1}+\\frac{u_{1}^{2}}{2g}= y_{2}+\\frac{u_{2}^{2}}{2g}$$"
      ]
    },
    {
      "cell_type": "markdown",
      "metadata": {
        "id": "b7SbGJs6V9s5"
      },
      "source": [
        "Conservación de la masa $Q_{1}=Q_{2}$, $$u_{1}y_{1}b=u_{2}y_{2}b$$ \n",
        "\n",
        "$$u_{2}=\\frac{u_{1}y_{1}b}{y_{2}b}$$\n",
        "\n",
        "$$u_{2}=\\frac{u_{1}y_{1}}{y_{2}}$$"
      ]
    },
    {
      "cell_type": "markdown",
      "metadata": {
        "id": "J2lDDml5V9s6"
      },
      "source": [
        "Se obtiene entonces un sistema de dos ecuaciones y dos incógnitas ($u_1$, $u_2$)"
      ]
    },
    {
      "cell_type": "code",
      "metadata": {
        "scrolled": true,
        "colab": {
          "base_uri": "https://localhost:8080/"
        },
        "id": "f6PnveqGV9s7",
        "cellView": "form",
        "outputId": "734597a8-c073-4594-cbc3-3e09e0f08b39"
      },
      "source": [
        "#@title Función para resolver el sistema de 2 ecuaciones anterior\n",
        "def Sistema(x):\n",
        "    u1 = x[0]\n",
        "    u2 = x[1]\n",
        "    \n",
        "    F = np.zeros(2)\n",
        "    F[0] = y1 + u1**2/(2*g) - (y2 + u2**2/(2*g))\n",
        "    F[1] = (u1*y1)/y2 - u2\n",
        "    return F\n",
        "\n",
        "x_inicial = np.array([1, 3])\n",
        "x = fsolve(Sistema, x_inicial)\n",
        "u1 = x[0]\n",
        "u2 = x[1]\n",
        "q = u1*y1\n",
        "print(\"u1 = \", np.round(x[0],2), \"m/s\",' ; ', \"u2 = \", np.round(x[1],2), \"m/s\"' ; ', \"q = \", np.round(q,2), \"m2/s\")"
      ],
      "execution_count": 14,
      "outputs": [
        {
          "output_type": "stream",
          "name": "stdout",
          "text": [
            "u1 =  1.32 m/s  ;  u2 =  7.04 m/s ;  q =  3.95 m2/s\n"
          ]
        }
      ]
    },
    {
      "cell_type": "markdown",
      "metadata": {
        "id": "GjHIyPl8V9s8"
      },
      "source": [
        "Finalmente utilizando la conservación de la cantidad de movimiento en términos de la fuerzas específica, \n",
        "\n",
        "$$ M_{1}- \\frac{F}{\\gamma}= M_{2}$$\n",
        "\n",
        "$$\\frac{F}{\\gamma} = M_{1}- M_{2}$$\n",
        "\n",
        "$$\\frac{F}{\\gamma} = \\frac{y_{1}^{2}}{2} + \\frac{q^{2}}{gy_{1}}-\\left(\\frac{y_{2}^{2}}{2} + \\frac{q^{2}}{gy_{2}}\\right)$$"
      ]
    },
    {
      "cell_type": "code",
      "metadata": {
        "colab": {
          "base_uri": "https://localhost:8080/"
        },
        "id": "RI9SsGXiV9s8",
        "cellView": "form",
        "outputId": "b36db3a1-639b-42a4-b67a-d35d4b4db6b8"
      },
      "source": [
        "#@title Calculo de fuerzas específicas \n",
        "M1 = y1**2/2 + q**2/(g*y1)\n",
        "M2 = y2**2/2 + q**2/(g*y2)\n",
        "F_e= M1 - M2\n",
        "F = F_e*ro*g*b\n",
        "print(\"La fuerza específica por unidad de ancho es \", round(F_e,2), \"[Fuerza/(Peso*Ancho)]\")\n",
        "print(\"Por lo tanto la fuerza en la compuerta es \", round(F/1000,2), \"(kN)\")"
      ],
      "execution_count": 9,
      "outputs": [
        {
          "output_type": "stream",
          "name": "stdout",
          "text": [
            "La fuerza específica por unidad de ancho es  2.04 [Fuerza/(Peso*Ancho)]\n",
            "Por lo tanto la fuerza en la compuerta es  59.94 (kN)\n"
          ]
        }
      ]
    },
    {
      "cell_type": "code",
      "metadata": {
        "colab": {
          "base_uri": "https://localhost:8080/",
          "height": 441
        },
        "cellView": "form",
        "id": "IvgGK3J8V9s9",
        "outputId": "5a54b78c-23ed-4513-fae1-442ea5df2c03"
      },
      "source": [
        "#@title Solución gráfica\n",
        "#Ahora los mismos resultados en forma gráfica \n",
        "#La fuerza y la energía específicas representan una altura de agua en común, \n",
        "#consecuentenente pueden utilizarse en conjunto a través de lineas horizontales\n",
        "\n",
        "E1 = y1 + u1**2/(2*g)\n",
        "E2 = y2 + u2**2/(2*g)\n",
        "\n",
        "y = np.linspace(0,20,1000)\n",
        "M_q = y**2/2 + q**2/(g*y)\n",
        "E_q = y + q**2/(2*g*y**2)\n",
        "\n",
        "fig, (ax0, ax1) =plt.subplots(ncols=2, figsize=(14,6))\n",
        "\n",
        "ax0.plot(M_q, y, 'r')\n",
        "ax0.set_title('Fuerza Específica')\n",
        "ax0.set_xlim([0,6])\n",
        "ax0.set_ylim([0,3.5])\n",
        "ax0.set_xlabel(\"Fuerza Específica, m2\")\n",
        "ax0.set_ylabel(\"Altura, m\")\n",
        "ax0.axhline(y=y1, color='y', label='y1', ls='--')\n",
        "ax0.axhline(y=y2, color='c', label='y2', ls='--')\n",
        "ax0.axvline(x=M1, color='y', label='M1', ls='-')\n",
        "ax0.axvline(x=M2, color='c', label='M2', ls='-')\n",
        "ax0.legend(loc='best')\n",
        "ax0.grid()\n",
        "\n",
        "ax1.plot(E_q, y,'b')\n",
        "ax1.set_title('Energía Específica')\n",
        "ax1.set_xlim([0, 6])\n",
        "ax1.set_ylim([0, 3.5])\n",
        "ax1.set_xlabel(\"Energía Específica, m\")\n",
        "ax1.set_ylabel(\"Altura, m\")\n",
        "ax1.axhline(y=y1, color='y',label='y1',ls='--')\n",
        "ax1.axhline(y=y2, color='c',label='y2',ls='--')\n",
        "ax1.axvline(x=E1, color='y',label='E1',ls='-')\n",
        "ax1.axvline(x=E2, color='c',label='E2',ls='--')\n",
        "ax1.legend(loc = 'best')\n",
        "ax1.grid()\n",
        "\n",
        "fig.tight_layout()\n",
        "plt.show()"
      ],
      "execution_count": 5,
      "outputs": [
        {
          "output_type": "display_data",
          "data": {
            "image/png": "[encoded data removed]",
            "text/plain": [
              "<Figure size 1008x432 with 2 Axes>"
            ]
          },
          "metadata": {
            "needs_background": "light"
          }
        }
      ]
    },
    {
      "cell_type": "code",
      "metadata": {
        "id": "1x44d2K3V9s-",
        "cellView": "form"
      },
      "source": [
        "#@title Programación Widget. Permite variar los valores de las alturas por medio de un GUI.\n",
        "def f(y1,ya):\n",
        "    y2 = ya*C_contraccion\n",
        "    \n",
        "    def Sistema(x):\n",
        "        u1 = x[0]\n",
        "        u2 = x[1]\n",
        "    \n",
        "        F = np.zeros(2)\n",
        "        F[0] = y1 + u1**2/(2*g) - (y2 + u2**2/(2*g))\n",
        "        F[1] = (u1*y1)/y2 - u2\n",
        "        return F\n",
        "\n",
        "    x_inicial = np.array([1, 3])\n",
        "    x = fsolve(Sistema, x_inicial)\n",
        "    u1 = x[0]\n",
        "    u2 = x[1]\n",
        "    q = u1*y1\n",
        "    \n",
        "    M1 = y1**2/2 + q**2/(g*y1)\n",
        "    M2 = y2**2/2 + q**2/(g*y2)\n",
        "    Fe = M1 - M2\n",
        "    F  = Fe*ro*g*b\n",
        "\n",
        "    E1 = y1 + u1**2/(2*g)\n",
        "    E2 = y2 + u2**2/(2*g)\n",
        "\n",
        "    y_q = np.linspace(0,20,1000)\n",
        "    M_q = y_q**2/2 + q**2/(g*y_q)\n",
        "    E_q = y_q + q**2/(2*g*y_q**2)\n",
        "\n",
        "    fig, (ax0, ax1, ax2) =plt.subplots(ncols=3, figsize=(15,6))\n",
        "\n",
        "    ax0.set_title('Compuerta y alturas de agua')\n",
        "    ax0.set_xlim([0, 15])\n",
        "    ax0.set_ylim([0, 6])\n",
        "    ax0.set_xlabel(\"Accionar de la compuerta\")\n",
        "    ax0.set_ylabel(\"Altura, m\")\n",
        "    ax0.axhline(y=y1,xmax=3/6, color='b',label='y1',ls='-')\n",
        "    ax0.axhline(y=y2,xmin=8/15, color='b',label='y2',ls='-')\n",
        "    ax0.axvline(x=7.5, ymin= ya*0.25/1.5, color='k',label='Compuerta',ls='-', lw = 5)\n",
        "    ax0.legend(loc = 'best')\n",
        "    ax0.grid()\n",
        "\n",
        "    ax1.plot(E_q, y_q,'b')\n",
        "    ax1.set_title('Energía Específica')\n",
        "    ax1.set_xlim([0, 15])\n",
        "    ax1.set_ylim([0, 6])\n",
        "    ax1.set_xlabel(\"Energía Específica, m\")\n",
        "    ax1.set_ylabel(\"Altura, m\")\n",
        "    ax1.axhline(y=y1, color='y',label='y1',ls='--')\n",
        "    ax1.axhline(y=y2, color='c',label='y2',ls='--')\n",
        "    ax1.axvline(x=E1, color='y',label='E1',ls='-')\n",
        "    ax1.axvline(x=E2, color='c',label='E2',ls='--')\n",
        "    ax1.legend(loc = 'best')\n",
        "    ax1.grid()\n",
        "\n",
        "    ax2.plot(M_q, y_q, 'r')\n",
        "    ax2.set_title('Fuerza Específica')\n",
        "    ax2.set_xlim([0,15])\n",
        "    ax2.set_ylim([0,6])\n",
        "    ax2.set_xlabel(\"Fuerza Específica, m2\")\n",
        "    ax2.set_ylabel(\"Altura, m\")\n",
        "    ax2.axhline(y=y1, color='y', label='y1', ls='--')\n",
        "    ax2.axhline(y=y2, color='c', label='y2', ls='--')\n",
        "    ax2.axvline(x=M1, color='y', label='M1', ls='-')\n",
        "    ax2.axvline(x=M2, color='c', label='M2', ls='-')\n",
        "    ax2.legend(loc='best')\n",
        "    ax2.grid()\n",
        "\n",
        "    fig.tight_layout()\n",
        "    plt.show()    "
      ],
      "execution_count": 52,
      "outputs": []
    },
    {
      "cell_type": "code",
      "metadata": {
        "colab": {
          "base_uri": "https://localhost:8080/",
          "height": 505,
          "referenced_widgets": [
            "bee94b7aae7b4ea1a61c590125a7ef92",
            "24f6600555b54dceaa05d59d6195fe07",
            "438f83b12e1f45b7bb0d419edba5aac6",
            "669a826db8cb41cb9062dfa2501a366d",
            "6b9350552d434232a7be36be9a3ce6be",
            "dc85bc4a00854599ac27cfeb8b5850b8",
            "56519758d71641cb98007d03d47f57b9",
            "db2fb771da474b49aec38f986f7558c2",
            "c4b8fb9f25cf468d8123d5b3407dbfc1",
            "0dadfb4cc46d4bafaf1569da9337c3f7"
          ]
        },
        "id": "9TPPo_oQV9s-",
        "cellView": "form",
        "outputId": "827d3fc3-ef56-4773-c107-326e8a6ca0d0"
      },
      "source": [
        "#@title Resultados gráficos para $y_1$ e $y_a$ variables en metros. Aturas aguas arriba y de apertura de la compuerta, respectivamente. \n",
        "wg.interact(f, y1=(2,5,0.2), ya=(0.1,1.5,0.1))\n",
        "plt.show()"
      ],
      "execution_count": 54,
      "outputs": [
        {
          "output_type": "display_data",
          "data": {
            "application/vnd.jupyter.widget-view+json": {
              "model_id": "bee94b7aae7b4ea1a61c590125a7ef92",
              "version_minor": 0,
              "version_major": 2
            },
            "text/plain": [
              "interactive(children=(FloatSlider(value=3.0, description='y1', max=5.0, min=2.0, step=0.2), FloatSlider(value=…"
            ]
          },
          "metadata": {}
        }
      ]
    },
    {
      "cell_type": "markdown",
      "metadata": {
        "id": "X8TFQXBNqZTI"
      },
      "source": [
        "##Algunas preguntas para discutir en su grupo\n",
        "\n",
        "1) ¿Es la fuerza sobre la compuerta hidroestática? Justifique con un análisis. Recuerde los cálculos de fuerzas sobre superficies planas vistos en mecánica de fluidos.\n",
        "\n",
        "2) ¿Puede realizar el cálculo de la fuerza si en la compuerta se produce una pérdida de energía no despreciable, pero conocida. Por ejemplo $\\Delta E = 0.2m$? ¿Qué cambios ocurren en el gráfico de la energía específica?\n",
        "\n",
        "3) ¿Qué sucedería con la fuerza si la compuerta se cierra en un 50% de su apertura inicial?\n",
        "\n",
        "4) ¿Qué sucedería con la fuerza si la compuerta se abre en un 50% de su apertura inicial? \n",
        "\n",
        "5) ¿Qué sucedería con la fuerza si $y_1$ aumenta en $1.0m$?\n",
        "\n",
        "6) ¿Qué sucedería con la fuerza si $y_1$ disminuye en $1.0m$?\n",
        "\n",
        "7) ¿Podría asegurar que la altura del flujo aguas abajo de la compuerta será siempre calculable por $y_2 = y_{apertura}*C_c$?"
      ]
    },
    {
      "cell_type": "code",
      "metadata": {
        "id": "62cVyuLxsLzk"
      },
      "source": [
        ""
      ],
      "execution_count": null,
      "outputs": []
    }
  ]
}